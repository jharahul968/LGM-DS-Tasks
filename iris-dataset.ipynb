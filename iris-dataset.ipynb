{
 "cells": [
  {
   "cell_type": "code",
   "execution_count": 1,
   "id": "b95054cb",
   "metadata": {
    "_cell_guid": "b1076dfc-b9ad-4769-8c92-a6c4dae69d19",
    "_uuid": "8f2839f25d086af736a60e9eeb907d3b93b6e0e5",
    "execution": {
     "iopub.execute_input": "2023-06-01T03:23:24.736269Z",
     "iopub.status.busy": "2023-06-01T03:23:24.735352Z",
     "iopub.status.idle": "2023-06-01T03:23:24.760137Z",
     "shell.execute_reply": "2023-06-01T03:23:24.758985Z"
    },
    "papermill": {
     "duration": 0.037573,
     "end_time": "2023-06-01T03:23:24.763046",
     "exception": false,
     "start_time": "2023-06-01T03:23:24.725473",
     "status": "completed"
    },
    "tags": []
   },
   "outputs": [
    {
     "name": "stdout",
     "output_type": "stream",
     "text": [
      "/kaggle/input/iris-flower-dataset/IRIS.csv\n"
     ]
    }
   ],
   "source": [
    "# This Python 3 environment comes with many helpful analytics libraries installed\n",
    "# It is defined by the kaggle/python Docker image: https://github.com/kaggle/docker-python\n",
    "# For example, here's several helpful packages to load\n",
    "\n",
    "import numpy as np # linear algebra\n",
    "import pandas as pd # data processing, CSV file I/O (e.g. pd.read_csv)\n",
    "\n",
    "# Input data files are available in the read-only \"../input/\" directory\n",
    "# For example, running this (by clicking run or pressing Shift+Enter) will list all files under the input directory\n",
    "\n",
    "import os\n",
    "for dirname, _, filenames in os.walk('/kaggle/input'):\n",
    "    for filename in filenames:\n",
    "        print(os.path.join(dirname, filename))\n",
    "\n",
    "# You can write up to 20GB to the current directory (/kaggle/working/) that gets preserved as output when you create a version using \"Save & Run All\" \n",
    "# You can also write temporary files to /kaggle/temp/, but they won't be saved outside of the current session"
   ]
  },
  {
   "cell_type": "code",
   "execution_count": 2,
   "id": "f587de3e",
   "metadata": {
    "execution": {
     "iopub.execute_input": "2023-06-01T03:23:24.778909Z",
     "iopub.status.busy": "2023-06-01T03:23:24.778179Z",
     "iopub.status.idle": "2023-06-01T03:23:37.295329Z",
     "shell.execute_reply": "2023-06-01T03:23:37.294172Z"
    },
    "papermill": {
     "duration": 12.529109,
     "end_time": "2023-06-01T03:23:37.298945",
     "exception": false,
     "start_time": "2023-06-01T03:23:24.769836",
     "status": "completed"
    },
    "tags": []
   },
   "outputs": [
    {
     "name": "stderr",
     "output_type": "stream",
     "text": [
      "/opt/conda/lib/python3.10/site-packages/tensorflow_io/python/ops/__init__.py:98: UserWarning: unable to load libtensorflow_io_plugins.so: unable to open file: libtensorflow_io_plugins.so, from paths: ['/opt/conda/lib/python3.10/site-packages/tensorflow_io/python/ops/libtensorflow_io_plugins.so']\n",
      "caused by: ['/opt/conda/lib/python3.10/site-packages/tensorflow_io/python/ops/libtensorflow_io_plugins.so: undefined symbol: _ZN3tsl6StatusC1EN10tensorflow5error4CodeESt17basic_string_viewIcSt11char_traitsIcEENS_14SourceLocationE']\n",
      "  warnings.warn(f\"unable to load libtensorflow_io_plugins.so: {e}\")\n",
      "/opt/conda/lib/python3.10/site-packages/tensorflow_io/python/ops/__init__.py:104: UserWarning: file system plugins are not loaded: unable to open file: libtensorflow_io.so, from paths: ['/opt/conda/lib/python3.10/site-packages/tensorflow_io/python/ops/libtensorflow_io.so']\n",
      "caused by: ['/opt/conda/lib/python3.10/site-packages/tensorflow_io/python/ops/libtensorflow_io.so: undefined symbol: _ZTVN10tensorflow13GcsFileSystemE']\n",
      "  warnings.warn(f\"file system plugins are not loaded: {e}\")\n"
     ]
    }
   ],
   "source": [
    "import matplotlib.pyplot as plt\n",
    "from sklearn.preprocessing import LabelEncoder\n",
    "from sklearn.model_selection import train_test_split\n",
    "\n",
    "import tensorflow as tf\n",
    "from tensorflow import keras\n",
    "from tensorflow.keras.models import Sequential"
   ]
  },
  {
   "cell_type": "code",
   "execution_count": 3,
   "id": "eca4f541",
   "metadata": {
    "execution": {
     "iopub.execute_input": "2023-06-01T03:23:37.316570Z",
     "iopub.status.busy": "2023-06-01T03:23:37.315728Z",
     "iopub.status.idle": "2023-06-01T03:23:37.341455Z",
     "shell.execute_reply": "2023-06-01T03:23:37.340137Z"
    },
    "papermill": {
     "duration": 0.03844,
     "end_time": "2023-06-01T03:23:37.344872",
     "exception": false,
     "start_time": "2023-06-01T03:23:37.306432",
     "status": "completed"
    },
    "tags": []
   },
   "outputs": [],
   "source": [
    "data=pd.read_csv('/kaggle/input/iris-flower-dataset/IRIS.csv')"
   ]
  },
  {
   "cell_type": "code",
   "execution_count": 4,
   "id": "7412a9fb",
   "metadata": {
    "execution": {
     "iopub.execute_input": "2023-06-01T03:23:37.361463Z",
     "iopub.status.busy": "2023-06-01T03:23:37.360925Z",
     "iopub.status.idle": "2023-06-01T03:23:37.400986Z",
     "shell.execute_reply": "2023-06-01T03:23:37.398966Z"
    },
    "papermill": {
     "duration": 0.052421,
     "end_time": "2023-06-01T03:23:37.404370",
     "exception": false,
     "start_time": "2023-06-01T03:23:37.351949",
     "status": "completed"
    },
    "tags": []
   },
   "outputs": [
    {
     "name": "stdout",
     "output_type": "stream",
     "text": [
      "<class 'pandas.core.frame.DataFrame'>\n",
      "RangeIndex: 150 entries, 0 to 149\n",
      "Data columns (total 5 columns):\n",
      " #   Column        Non-Null Count  Dtype  \n",
      "---  ------        --------------  -----  \n",
      " 0   sepal_length  150 non-null    float64\n",
      " 1   sepal_width   150 non-null    float64\n",
      " 2   petal_length  150 non-null    float64\n",
      " 3   petal_width   150 non-null    float64\n",
      " 4   species       150 non-null    object \n",
      "dtypes: float64(4), object(1)\n",
      "memory usage: 6.0+ KB\n"
     ]
    }
   ],
   "source": [
    "data.info()"
   ]
  },
  {
   "cell_type": "code",
   "execution_count": 5,
   "id": "1bf21068",
   "metadata": {
    "execution": {
     "iopub.execute_input": "2023-06-01T03:23:37.421448Z",
     "iopub.status.busy": "2023-06-01T03:23:37.421028Z",
     "iopub.status.idle": "2023-06-01T03:23:37.454276Z",
     "shell.execute_reply": "2023-06-01T03:23:37.452789Z"
    },
    "papermill": {
     "duration": 0.044909,
     "end_time": "2023-06-01T03:23:37.457134",
     "exception": false,
     "start_time": "2023-06-01T03:23:37.412225",
     "status": "completed"
    },
    "tags": []
   },
   "outputs": [
    {
     "data": {
      "text/html": [
       "<div>\n",
       "<style scoped>\n",
       "    .dataframe tbody tr th:only-of-type {\n",
       "        vertical-align: middle;\n",
       "    }\n",
       "\n",
       "    .dataframe tbody tr th {\n",
       "        vertical-align: top;\n",
       "    }\n",
       "\n",
       "    .dataframe thead th {\n",
       "        text-align: right;\n",
       "    }\n",
       "</style>\n",
       "<table border=\"1\" class=\"dataframe\">\n",
       "  <thead>\n",
       "    <tr style=\"text-align: right;\">\n",
       "      <th></th>\n",
       "      <th>sepal_length</th>\n",
       "      <th>sepal_width</th>\n",
       "      <th>petal_length</th>\n",
       "      <th>petal_width</th>\n",
       "      <th>species</th>\n",
       "    </tr>\n",
       "  </thead>\n",
       "  <tbody>\n",
       "    <tr>\n",
       "      <th>0</th>\n",
       "      <td>5.1</td>\n",
       "      <td>3.5</td>\n",
       "      <td>1.4</td>\n",
       "      <td>0.2</td>\n",
       "      <td>Iris-setosa</td>\n",
       "    </tr>\n",
       "    <tr>\n",
       "      <th>1</th>\n",
       "      <td>4.9</td>\n",
       "      <td>3.0</td>\n",
       "      <td>1.4</td>\n",
       "      <td>0.2</td>\n",
       "      <td>Iris-setosa</td>\n",
       "    </tr>\n",
       "    <tr>\n",
       "      <th>2</th>\n",
       "      <td>4.7</td>\n",
       "      <td>3.2</td>\n",
       "      <td>1.3</td>\n",
       "      <td>0.2</td>\n",
       "      <td>Iris-setosa</td>\n",
       "    </tr>\n",
       "    <tr>\n",
       "      <th>3</th>\n",
       "      <td>4.6</td>\n",
       "      <td>3.1</td>\n",
       "      <td>1.5</td>\n",
       "      <td>0.2</td>\n",
       "      <td>Iris-setosa</td>\n",
       "    </tr>\n",
       "    <tr>\n",
       "      <th>4</th>\n",
       "      <td>5.0</td>\n",
       "      <td>3.6</td>\n",
       "      <td>1.4</td>\n",
       "      <td>0.2</td>\n",
       "      <td>Iris-setosa</td>\n",
       "    </tr>\n",
       "  </tbody>\n",
       "</table>\n",
       "</div>"
      ],
      "text/plain": [
       "   sepal_length  sepal_width  petal_length  petal_width      species\n",
       "0           5.1          3.5           1.4          0.2  Iris-setosa\n",
       "1           4.9          3.0           1.4          0.2  Iris-setosa\n",
       "2           4.7          3.2           1.3          0.2  Iris-setosa\n",
       "3           4.6          3.1           1.5          0.2  Iris-setosa\n",
       "4           5.0          3.6           1.4          0.2  Iris-setosa"
      ]
     },
     "execution_count": 5,
     "metadata": {},
     "output_type": "execute_result"
    }
   ],
   "source": [
    "data.head()"
   ]
  },
  {
   "cell_type": "code",
   "execution_count": 6,
   "id": "e0ce947b",
   "metadata": {
    "execution": {
     "iopub.execute_input": "2023-06-01T03:23:37.477213Z",
     "iopub.status.busy": "2023-06-01T03:23:37.476275Z",
     "iopub.status.idle": "2023-06-01T03:23:37.487351Z",
     "shell.execute_reply": "2023-06-01T03:23:37.486228Z"
    },
    "papermill": {
     "duration": 0.02601,
     "end_time": "2023-06-01T03:23:37.490274",
     "exception": false,
     "start_time": "2023-06-01T03:23:37.464264",
     "status": "completed"
    },
    "tags": []
   },
   "outputs": [],
   "source": [
    "X=data.loc[:, data.columns!='species']\n",
    "y=data.loc[:, ['species']]"
   ]
  },
  {
   "cell_type": "code",
   "execution_count": 7,
   "id": "548f91c5",
   "metadata": {
    "execution": {
     "iopub.execute_input": "2023-06-01T03:23:37.507195Z",
     "iopub.status.busy": "2023-06-01T03:23:37.506372Z",
     "iopub.status.idle": "2023-06-01T03:23:37.526465Z",
     "shell.execute_reply": "2023-06-01T03:23:37.525335Z"
    },
    "papermill": {
     "duration": 0.031603,
     "end_time": "2023-06-01T03:23:37.529001",
     "exception": false,
     "start_time": "2023-06-01T03:23:37.497398",
     "status": "completed"
    },
    "tags": []
   },
   "outputs": [
    {
     "data": {
      "text/html": [
       "<div>\n",
       "<style scoped>\n",
       "    .dataframe tbody tr th:only-of-type {\n",
       "        vertical-align: middle;\n",
       "    }\n",
       "\n",
       "    .dataframe tbody tr th {\n",
       "        vertical-align: top;\n",
       "    }\n",
       "\n",
       "    .dataframe thead th {\n",
       "        text-align: right;\n",
       "    }\n",
       "</style>\n",
       "<table border=\"1\" class=\"dataframe\">\n",
       "  <thead>\n",
       "    <tr style=\"text-align: right;\">\n",
       "      <th></th>\n",
       "      <th>sepal_length</th>\n",
       "      <th>sepal_width</th>\n",
       "      <th>petal_length</th>\n",
       "      <th>petal_width</th>\n",
       "    </tr>\n",
       "  </thead>\n",
       "  <tbody>\n",
       "    <tr>\n",
       "      <th>0</th>\n",
       "      <td>5.1</td>\n",
       "      <td>3.5</td>\n",
       "      <td>1.4</td>\n",
       "      <td>0.2</td>\n",
       "    </tr>\n",
       "    <tr>\n",
       "      <th>1</th>\n",
       "      <td>4.9</td>\n",
       "      <td>3.0</td>\n",
       "      <td>1.4</td>\n",
       "      <td>0.2</td>\n",
       "    </tr>\n",
       "    <tr>\n",
       "      <th>2</th>\n",
       "      <td>4.7</td>\n",
       "      <td>3.2</td>\n",
       "      <td>1.3</td>\n",
       "      <td>0.2</td>\n",
       "    </tr>\n",
       "    <tr>\n",
       "      <th>3</th>\n",
       "      <td>4.6</td>\n",
       "      <td>3.1</td>\n",
       "      <td>1.5</td>\n",
       "      <td>0.2</td>\n",
       "    </tr>\n",
       "    <tr>\n",
       "      <th>4</th>\n",
       "      <td>5.0</td>\n",
       "      <td>3.6</td>\n",
       "      <td>1.4</td>\n",
       "      <td>0.2</td>\n",
       "    </tr>\n",
       "    <tr>\n",
       "      <th>...</th>\n",
       "      <td>...</td>\n",
       "      <td>...</td>\n",
       "      <td>...</td>\n",
       "      <td>...</td>\n",
       "    </tr>\n",
       "    <tr>\n",
       "      <th>145</th>\n",
       "      <td>6.7</td>\n",
       "      <td>3.0</td>\n",
       "      <td>5.2</td>\n",
       "      <td>2.3</td>\n",
       "    </tr>\n",
       "    <tr>\n",
       "      <th>146</th>\n",
       "      <td>6.3</td>\n",
       "      <td>2.5</td>\n",
       "      <td>5.0</td>\n",
       "      <td>1.9</td>\n",
       "    </tr>\n",
       "    <tr>\n",
       "      <th>147</th>\n",
       "      <td>6.5</td>\n",
       "      <td>3.0</td>\n",
       "      <td>5.2</td>\n",
       "      <td>2.0</td>\n",
       "    </tr>\n",
       "    <tr>\n",
       "      <th>148</th>\n",
       "      <td>6.2</td>\n",
       "      <td>3.4</td>\n",
       "      <td>5.4</td>\n",
       "      <td>2.3</td>\n",
       "    </tr>\n",
       "    <tr>\n",
       "      <th>149</th>\n",
       "      <td>5.9</td>\n",
       "      <td>3.0</td>\n",
       "      <td>5.1</td>\n",
       "      <td>1.8</td>\n",
       "    </tr>\n",
       "  </tbody>\n",
       "</table>\n",
       "<p>150 rows × 4 columns</p>\n",
       "</div>"
      ],
      "text/plain": [
       "     sepal_length  sepal_width  petal_length  petal_width\n",
       "0             5.1          3.5           1.4          0.2\n",
       "1             4.9          3.0           1.4          0.2\n",
       "2             4.7          3.2           1.3          0.2\n",
       "3             4.6          3.1           1.5          0.2\n",
       "4             5.0          3.6           1.4          0.2\n",
       "..            ...          ...           ...          ...\n",
       "145           6.7          3.0           5.2          2.3\n",
       "146           6.3          2.5           5.0          1.9\n",
       "147           6.5          3.0           5.2          2.0\n",
       "148           6.2          3.4           5.4          2.3\n",
       "149           5.9          3.0           5.1          1.8\n",
       "\n",
       "[150 rows x 4 columns]"
      ]
     },
     "execution_count": 7,
     "metadata": {},
     "output_type": "execute_result"
    }
   ],
   "source": [
    "X"
   ]
  },
  {
   "cell_type": "code",
   "execution_count": 8,
   "id": "1108c96c",
   "metadata": {
    "execution": {
     "iopub.execute_input": "2023-06-01T03:23:37.546149Z",
     "iopub.status.busy": "2023-06-01T03:23:37.545434Z",
     "iopub.status.idle": "2023-06-01T03:23:37.559982Z",
     "shell.execute_reply": "2023-06-01T03:23:37.558469Z"
    },
    "papermill": {
     "duration": 0.026814,
     "end_time": "2023-06-01T03:23:37.563226",
     "exception": false,
     "start_time": "2023-06-01T03:23:37.536412",
     "status": "completed"
    },
    "tags": []
   },
   "outputs": [
    {
     "data": {
      "text/html": [
       "<div>\n",
       "<style scoped>\n",
       "    .dataframe tbody tr th:only-of-type {\n",
       "        vertical-align: middle;\n",
       "    }\n",
       "\n",
       "    .dataframe tbody tr th {\n",
       "        vertical-align: top;\n",
       "    }\n",
       "\n",
       "    .dataframe thead th {\n",
       "        text-align: right;\n",
       "    }\n",
       "</style>\n",
       "<table border=\"1\" class=\"dataframe\">\n",
       "  <thead>\n",
       "    <tr style=\"text-align: right;\">\n",
       "      <th></th>\n",
       "      <th>species</th>\n",
       "    </tr>\n",
       "  </thead>\n",
       "  <tbody>\n",
       "    <tr>\n",
       "      <th>0</th>\n",
       "      <td>Iris-setosa</td>\n",
       "    </tr>\n",
       "    <tr>\n",
       "      <th>1</th>\n",
       "      <td>Iris-setosa</td>\n",
       "    </tr>\n",
       "    <tr>\n",
       "      <th>2</th>\n",
       "      <td>Iris-setosa</td>\n",
       "    </tr>\n",
       "    <tr>\n",
       "      <th>3</th>\n",
       "      <td>Iris-setosa</td>\n",
       "    </tr>\n",
       "    <tr>\n",
       "      <th>4</th>\n",
       "      <td>Iris-setosa</td>\n",
       "    </tr>\n",
       "    <tr>\n",
       "      <th>...</th>\n",
       "      <td>...</td>\n",
       "    </tr>\n",
       "    <tr>\n",
       "      <th>145</th>\n",
       "      <td>Iris-virginica</td>\n",
       "    </tr>\n",
       "    <tr>\n",
       "      <th>146</th>\n",
       "      <td>Iris-virginica</td>\n",
       "    </tr>\n",
       "    <tr>\n",
       "      <th>147</th>\n",
       "      <td>Iris-virginica</td>\n",
       "    </tr>\n",
       "    <tr>\n",
       "      <th>148</th>\n",
       "      <td>Iris-virginica</td>\n",
       "    </tr>\n",
       "    <tr>\n",
       "      <th>149</th>\n",
       "      <td>Iris-virginica</td>\n",
       "    </tr>\n",
       "  </tbody>\n",
       "</table>\n",
       "<p>150 rows × 1 columns</p>\n",
       "</div>"
      ],
      "text/plain": [
       "            species\n",
       "0       Iris-setosa\n",
       "1       Iris-setosa\n",
       "2       Iris-setosa\n",
       "3       Iris-setosa\n",
       "4       Iris-setosa\n",
       "..              ...\n",
       "145  Iris-virginica\n",
       "146  Iris-virginica\n",
       "147  Iris-virginica\n",
       "148  Iris-virginica\n",
       "149  Iris-virginica\n",
       "\n",
       "[150 rows x 1 columns]"
      ]
     },
     "execution_count": 8,
     "metadata": {},
     "output_type": "execute_result"
    }
   ],
   "source": [
    "y"
   ]
  },
  {
   "cell_type": "code",
   "execution_count": 9,
   "id": "ae99c928",
   "metadata": {
    "execution": {
     "iopub.execute_input": "2023-06-01T03:23:37.581259Z",
     "iopub.status.busy": "2023-06-01T03:23:37.580858Z",
     "iopub.status.idle": "2023-06-01T03:23:37.592827Z",
     "shell.execute_reply": "2023-06-01T03:23:37.591291Z"
    },
    "papermill": {
     "duration": 0.024754,
     "end_time": "2023-06-01T03:23:37.595958",
     "exception": false,
     "start_time": "2023-06-01T03:23:37.571204",
     "status": "completed"
    },
    "tags": []
   },
   "outputs": [
    {
     "name": "stderr",
     "output_type": "stream",
     "text": [
      "/opt/conda/lib/python3.10/site-packages/sklearn/preprocessing/_label.py:116: DataConversionWarning: A column-vector y was passed when a 1d array was expected. Please change the shape of y to (n_samples, ), for example using ravel().\n",
      "  y = column_or_1d(y, warn=True)\n"
     ]
    }
   ],
   "source": [
    "y_encoder=LabelEncoder().fit_transform(y)\n",
    "y_label=tf.keras.utils.to_categorical(y_encoder)"
   ]
  },
  {
   "cell_type": "code",
   "execution_count": 10,
   "id": "822b76d9",
   "metadata": {
    "execution": {
     "iopub.execute_input": "2023-06-01T03:23:37.616474Z",
     "iopub.status.busy": "2023-06-01T03:23:37.616043Z",
     "iopub.status.idle": "2023-06-01T03:23:37.626441Z",
     "shell.execute_reply": "2023-06-01T03:23:37.625442Z"
    },
    "papermill": {
     "duration": 0.023905,
     "end_time": "2023-06-01T03:23:37.629434",
     "exception": false,
     "start_time": "2023-06-01T03:23:37.605529",
     "status": "completed"
    },
    "tags": []
   },
   "outputs": [
    {
     "data": {
      "text/plain": [
       "array([[1., 0., 0.],\n",
       "       [1., 0., 0.],\n",
       "       [1., 0., 0.],\n",
       "       [1., 0., 0.],\n",
       "       [1., 0., 0.]], dtype=float32)"
      ]
     },
     "execution_count": 10,
     "metadata": {},
     "output_type": "execute_result"
    }
   ],
   "source": [
    "y_label[:5]"
   ]
  },
  {
   "cell_type": "code",
   "execution_count": 11,
   "id": "45056e49",
   "metadata": {
    "execution": {
     "iopub.execute_input": "2023-06-01T03:23:37.649564Z",
     "iopub.status.busy": "2023-06-01T03:23:37.649161Z",
     "iopub.status.idle": "2023-06-01T03:23:37.657339Z",
     "shell.execute_reply": "2023-06-01T03:23:37.655788Z"
    },
    "papermill": {
     "duration": 0.022587,
     "end_time": "2023-06-01T03:23:37.660719",
     "exception": false,
     "start_time": "2023-06-01T03:23:37.638132",
     "status": "completed"
    },
    "tags": []
   },
   "outputs": [],
   "source": [
    "X_train, X_test, y_train, y_test=train_test_split(X, y_label, test_size=0.3, random_state=42)"
   ]
  },
  {
   "cell_type": "code",
   "execution_count": 12,
   "id": "faeedfa3",
   "metadata": {
    "execution": {
     "iopub.execute_input": "2023-06-01T03:23:37.680641Z",
     "iopub.status.busy": "2023-06-01T03:23:37.680241Z",
     "iopub.status.idle": "2023-06-01T03:23:37.687674Z",
     "shell.execute_reply": "2023-06-01T03:23:37.686007Z"
    },
    "papermill": {
     "duration": 0.021566,
     "end_time": "2023-06-01T03:23:37.690795",
     "exception": false,
     "start_time": "2023-06-01T03:23:37.669229",
     "status": "completed"
    },
    "tags": []
   },
   "outputs": [
    {
     "name": "stdout",
     "output_type": "stream",
     "text": [
      "Train shape:  (105, 4) Y train shape:  (105, 3)\n"
     ]
    }
   ],
   "source": [
    "print(\"Train shape: \", X_train.shape, \"Y train shape: \", y_train.shape)"
   ]
  },
  {
   "cell_type": "code",
   "execution_count": 13,
   "id": "a978f322",
   "metadata": {
    "execution": {
     "iopub.execute_input": "2023-06-01T03:23:37.710038Z",
     "iopub.status.busy": "2023-06-01T03:23:37.709521Z",
     "iopub.status.idle": "2023-06-01T03:23:37.971308Z",
     "shell.execute_reply": "2023-06-01T03:23:37.969874Z"
    },
    "papermill": {
     "duration": 0.275234,
     "end_time": "2023-06-01T03:23:37.974491",
     "exception": false,
     "start_time": "2023-06-01T03:23:37.699257",
     "status": "completed"
    },
    "tags": []
   },
   "outputs": [],
   "source": [
    "def get_model():\n",
    "    model=Sequential([\n",
    "        keras.layers.Input(shape=X_train.shape[1:]),\n",
    "        keras.layers.Dense(1000, activation='relu'),\n",
    "        keras.layers.Dense(500, activation='relu'),\n",
    "        keras.layers.Dense(300, activation='relu'),\n",
    "        keras.layers.Dropout(0.2),\n",
    "        keras.layers.Dense(3, activation='softmax')\n",
    "    ])\n",
    "    return model\n",
    "\n",
    "model=get_model()"
   ]
  },
  {
   "cell_type": "code",
   "execution_count": 14,
   "id": "8494f78a",
   "metadata": {
    "execution": {
     "iopub.execute_input": "2023-06-01T03:23:37.993755Z",
     "iopub.status.busy": "2023-06-01T03:23:37.993175Z",
     "iopub.status.idle": "2023-06-01T03:23:38.026502Z",
     "shell.execute_reply": "2023-06-01T03:23:38.025123Z"
    },
    "papermill": {
     "duration": 0.047021,
     "end_time": "2023-06-01T03:23:38.029979",
     "exception": false,
     "start_time": "2023-06-01T03:23:37.982958",
     "status": "completed"
    },
    "tags": []
   },
   "outputs": [],
   "source": [
    "model.compile(optimizer='adam', loss=keras.losses.CategoricalCrossentropy(), metrics=['accuracy'])"
   ]
  },
  {
   "cell_type": "code",
   "execution_count": 15,
   "id": "c8d73f60",
   "metadata": {
    "execution": {
     "iopub.execute_input": "2023-06-01T03:23:38.049352Z",
     "iopub.status.busy": "2023-06-01T03:23:38.048855Z",
     "iopub.status.idle": "2023-06-01T03:23:42.816450Z",
     "shell.execute_reply": "2023-06-01T03:23:42.815123Z"
    },
    "papermill": {
     "duration": 4.7808,
     "end_time": "2023-06-01T03:23:42.819522",
     "exception": false,
     "start_time": "2023-06-01T03:23:38.038722",
     "status": "completed"
    },
    "tags": []
   },
   "outputs": [
    {
     "name": "stdout",
     "output_type": "stream",
     "text": [
      "Epoch 1/30\n",
      "4/4 [==============================] - 2s 126ms/step - loss: 1.0318 - accuracy: 0.4000 - val_loss: 0.8375 - val_accuracy: 0.7111\n",
      "Epoch 2/30\n",
      "4/4 [==============================] - 0s 29ms/step - loss: 0.9039 - accuracy: 0.6286 - val_loss: 0.5370 - val_accuracy: 0.7111\n",
      "Epoch 3/30\n",
      "4/4 [==============================] - 0s 27ms/step - loss: 0.6466 - accuracy: 0.6476 - val_loss: 0.4326 - val_accuracy: 0.7111\n",
      "Epoch 4/30\n",
      "4/4 [==============================] - 0s 25ms/step - loss: 0.4786 - accuracy: 0.7714 - val_loss: 0.4128 - val_accuracy: 0.7111\n",
      "Epoch 5/30\n",
      "4/4 [==============================] - 0s 26ms/step - loss: 0.4680 - accuracy: 0.7524 - val_loss: 0.3018 - val_accuracy: 0.8667\n",
      "Epoch 6/30\n",
      "4/4 [==============================] - 0s 25ms/step - loss: 0.3580 - accuracy: 0.8667 - val_loss: 0.2434 - val_accuracy: 0.9333\n",
      "Epoch 7/30\n",
      "4/4 [==============================] - 0s 26ms/step - loss: 0.3215 - accuracy: 0.8952 - val_loss: 0.1965 - val_accuracy: 0.9556\n",
      "Epoch 8/30\n",
      "4/4 [==============================] - 0s 26ms/step - loss: 0.2372 - accuracy: 0.9238 - val_loss: 0.1574 - val_accuracy: 0.9333\n",
      "Epoch 9/30\n",
      "4/4 [==============================] - 0s 28ms/step - loss: 0.2174 - accuracy: 0.9238 - val_loss: 0.1324 - val_accuracy: 0.9556\n",
      "Epoch 10/30\n",
      "4/4 [==============================] - 0s 25ms/step - loss: 0.1480 - accuracy: 0.9524 - val_loss: 0.1523 - val_accuracy: 0.9111\n",
      "Epoch 11/30\n",
      "4/4 [==============================] - 0s 28ms/step - loss: 0.1446 - accuracy: 0.9429 - val_loss: 0.1483 - val_accuracy: 0.9111\n",
      "Epoch 12/30\n",
      "4/4 [==============================] - 0s 35ms/step - loss: 0.1796 - accuracy: 0.9429 - val_loss: 0.1598 - val_accuracy: 0.9111\n",
      "Epoch 13/30\n",
      "4/4 [==============================] - 0s 25ms/step - loss: 0.1439 - accuracy: 0.9333 - val_loss: 0.1593 - val_accuracy: 0.9111\n",
      "Epoch 14/30\n",
      "4/4 [==============================] - 0s 26ms/step - loss: 0.1428 - accuracy: 0.9429 - val_loss: 0.4645 - val_accuracy: 0.8667\n",
      "Epoch 15/30\n",
      "4/4 [==============================] - 0s 25ms/step - loss: 0.3666 - accuracy: 0.8381 - val_loss: 0.2923 - val_accuracy: 0.8667\n",
      "Epoch 16/30\n",
      "4/4 [==============================] - 0s 28ms/step - loss: 0.4678 - accuracy: 0.8190 - val_loss: 0.0688 - val_accuracy: 1.0000\n",
      "Epoch 17/30\n",
      "4/4 [==============================] - 0s 28ms/step - loss: 0.1676 - accuracy: 0.9143 - val_loss: 0.1042 - val_accuracy: 0.9111\n",
      "Epoch 18/30\n",
      "4/4 [==============================] - 0s 28ms/step - loss: 0.1123 - accuracy: 0.9619 - val_loss: 0.1100 - val_accuracy: 0.9556\n",
      "Epoch 19/30\n",
      "4/4 [==============================] - 0s 31ms/step - loss: 0.1659 - accuracy: 0.9238 - val_loss: 0.0765 - val_accuracy: 1.0000\n",
      "Epoch 20/30\n",
      "4/4 [==============================] - 0s 24ms/step - loss: 0.1293 - accuracy: 0.9333 - val_loss: 0.0676 - val_accuracy: 1.0000\n",
      "Epoch 21/30\n",
      "4/4 [==============================] - 0s 25ms/step - loss: 0.1932 - accuracy: 0.9333 - val_loss: 0.1258 - val_accuracy: 0.9333\n",
      "Epoch 22/30\n",
      "4/4 [==============================] - 0s 27ms/step - loss: 0.1436 - accuracy: 0.9619 - val_loss: 0.2321 - val_accuracy: 0.9111\n",
      "Epoch 23/30\n",
      "4/4 [==============================] - 0s 25ms/step - loss: 0.2269 - accuracy: 0.9143 - val_loss: 0.0654 - val_accuracy: 1.0000\n",
      "Epoch 24/30\n",
      "4/4 [==============================] - 0s 24ms/step - loss: 0.1206 - accuracy: 0.9619 - val_loss: 0.0790 - val_accuracy: 0.9778\n",
      "Epoch 25/30\n",
      "4/4 [==============================] - 0s 28ms/step - loss: 0.1257 - accuracy: 0.9619 - val_loss: 0.0733 - val_accuracy: 0.9778\n",
      "Epoch 26/30\n",
      "4/4 [==============================] - 0s 25ms/step - loss: 0.1113 - accuracy: 0.9524 - val_loss: 0.0810 - val_accuracy: 0.9556\n",
      "Epoch 27/30\n",
      "4/4 [==============================] - 0s 27ms/step - loss: 0.0994 - accuracy: 0.9810 - val_loss: 0.0670 - val_accuracy: 0.9778\n",
      "Epoch 28/30\n",
      "4/4 [==============================] - 0s 24ms/step - loss: 0.1151 - accuracy: 0.9524 - val_loss: 0.0702 - val_accuracy: 0.9778\n",
      "Epoch 29/30\n",
      "4/4 [==============================] - 0s 25ms/step - loss: 0.1013 - accuracy: 0.9524 - val_loss: 0.1083 - val_accuracy: 0.9111\n",
      "Epoch 30/30\n",
      "4/4 [==============================] - 0s 24ms/step - loss: 0.1077 - accuracy: 0.9619 - val_loss: 0.0727 - val_accuracy: 0.9778\n"
     ]
    }
   ],
   "source": [
    "history=model.fit(X_train, y_train, epochs=30, validation_data=(X_test, y_test), verbose=1)"
   ]
  },
  {
   "cell_type": "code",
   "execution_count": 16,
   "id": "3cb70855",
   "metadata": {
    "execution": {
     "iopub.execute_input": "2023-06-01T03:23:42.855617Z",
     "iopub.status.busy": "2023-06-01T03:23:42.855126Z",
     "iopub.status.idle": "2023-06-01T03:23:42.970177Z",
     "shell.execute_reply": "2023-06-01T03:23:42.968302Z"
    },
    "papermill": {
     "duration": 0.136387,
     "end_time": "2023-06-01T03:23:42.973171",
     "exception": false,
     "start_time": "2023-06-01T03:23:42.836784",
     "status": "completed"
    },
    "tags": []
   },
   "outputs": [
    {
     "name": "stdout",
     "output_type": "stream",
     "text": [
      "2/2 [==============================] - 0s 8ms/step - loss: 0.0727 - accuracy: 0.9778\n",
      "[0.07270468771457672, 0.9777777791023254]\n"
     ]
    }
   ],
   "source": [
    "print(model.evaluate(X_test, y_test))"
   ]
  },
  {
   "cell_type": "code",
   "execution_count": 17,
   "id": "bbfc9d96",
   "metadata": {
    "execution": {
     "iopub.execute_input": "2023-06-01T03:23:43.014866Z",
     "iopub.status.busy": "2023-06-01T03:23:43.014363Z",
     "iopub.status.idle": "2023-06-01T03:23:43.451463Z",
     "shell.execute_reply": "2023-06-01T03:23:43.450275Z"
    },
    "papermill": {
     "duration": 0.463413,
     "end_time": "2023-06-01T03:23:43.454303",
     "exception": false,
     "start_time": "2023-06-01T03:23:42.990890",
     "status": "completed"
    },
    "tags": []
   },
   "outputs": [
    {
     "data": {
      "image/png": "[encoded data removed]",
      "text/plain": [
       "<Figure size 1000x600 with 1 Axes>"
      ]
     },
     "metadata": {},
     "output_type": "display_data"
    }
   ],
   "source": [
    "pd.DataFrame(history.history).plot(figsize=(10,6))\n",
    "plt.grid(True)\n",
    "plt.gca().set_ylim(0,1)\n",
    "plt.show()"
   ]
  },
  {
   "cell_type": "code",
   "execution_count": null,
   "id": "846ef87c",
   "metadata": {
    "papermill": {
     "duration": 0.017653,
     "end_time": "2023-06-01T03:23:43.490391",
     "exception": false,
     "start_time": "2023-06-01T03:23:43.472738",
     "status": "completed"
    },
    "tags": []
   },
   "outputs": [],
   "source": []
  }
 ],
 "metadata": {
  "kernelspec": {
   "display_name": "Python 3",
   "language": "python",
   "name": "python3"
  },
  "language_info": {
   "codemirror_mode": {
    "name": "ipython",
    "version": 3
   },
   "file_extension": ".py",
   "mimetype": "text/x-python",
   "name": "python",
   "nbconvert_exporter": "python",
   "pygments_lexer": "ipython3",
   "version": "3.10.10"
  },
  "papermill": {
   "default_parameters": {},
   "duration": 37.008498,
   "end_time": "2023-06-01T03:23:46.250636",
   "environment_variables": {},
   "exception": null,
   "input_path": "__notebook__.ipynb",
   "output_path": "__notebook__.ipynb",
   "parameters": {},
   "start_time": "2023-06-01T03:23:09.242138",
   "version": "2.4.0"
  }
 },
 "nbformat": 4,
 "nbformat_minor": 5
}
