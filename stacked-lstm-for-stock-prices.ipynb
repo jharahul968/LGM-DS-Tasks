{
 "cells": [
  {
   "cell_type": "code",
   "execution_count": 1,
   "id": "6e3865f3",
   "metadata": {
    "_cell_guid": "b1076dfc-b9ad-4769-8c92-a6c4dae69d19",
    "_uuid": "8f2839f25d086af736a60e9eeb907d3b93b6e0e5",
    "execution": {
     "iopub.execute_input": "2023-06-01T07:15:54.841397Z",
     "iopub.status.busy": "2023-06-01T07:15:54.841010Z",
     "iopub.status.idle": "2023-06-01T07:15:54.853624Z",
     "shell.execute_reply": "2023-06-01T07:15:54.852518Z"
    },
    "papermill": {
     "duration": 0.025265,
     "end_time": "2023-06-01T07:15:54.856112",
     "exception": false,
     "start_time": "2023-06-01T07:15:54.830847",
     "status": "completed"
    },
    "tags": []
   },
   "outputs": [],
   "source": [
    "# This Python 3 environment comes with many helpful analytics libraries installed\n",
    "# It is defined by the kaggle/python Docker image: https://github.com/kaggle/docker-python\n",
    "# For example, here's several helpful packages to load\n",
    "\n",
    "import numpy as np # linear algebra\n",
    "import pandas as pd # data processing, CSV file I/O (e.g. pd.read_csv)\n",
    "\n",
    "# Input data files are available in the read-only \"../input/\" directory\n",
    "# For example, running this (by clicking run or pressing Shift+Enter) will list all files under the input directory\n",
    "\n",
    "import os\n",
    "for dirname, _, filenames in os.walk('/kaggle/input'):\n",
    "    for filename in filenames:\n",
    "        print(os.path.join(dirname, filename))\n",
    "\n",
    "# You can write up to 20GB to the current directory (/kaggle/working/) that gets preserved as output when you create a version using \"Save & Run All\" \n",
    "# You can also write temporary files to /kaggle/temp/, but they won't be saved outside of the current session"
   ]
  },
  {
   "cell_type": "code",
   "execution_count": 2,
   "id": "848670ea",
   "metadata": {
    "execution": {
     "iopub.execute_input": "2023-06-01T07:15:54.874039Z",
     "iopub.status.busy": "2023-06-01T07:15:54.873365Z",
     "iopub.status.idle": "2023-06-01T07:15:55.120812Z",
     "shell.execute_reply": "2023-06-01T07:15:55.119789Z"
    },
    "papermill": {
     "duration": 0.259531,
     "end_time": "2023-06-01T07:15:55.123734",
     "exception": false,
     "start_time": "2023-06-01T07:15:54.864203",
     "status": "completed"
    },
    "tags": []
   },
   "outputs": [],
   "source": [
    "data=pd.read_csv('https://raw.githubusercontent.com/mwitiderrick/stockprice/master/NSE-TATAGLOBAL.csv')"
   ]
  },
  {
   "cell_type": "code",
   "execution_count": 3,
   "id": "29934f30",
   "metadata": {
    "execution": {
     "iopub.execute_input": "2023-06-01T07:15:55.142561Z",
     "iopub.status.busy": "2023-06-01T07:15:55.141372Z",
     "iopub.status.idle": "2023-06-01T07:15:55.181984Z",
     "shell.execute_reply": "2023-06-01T07:15:55.180749Z"
    },
    "papermill": {
     "duration": 0.052665,
     "end_time": "2023-06-01T07:15:55.184614",
     "exception": false,
     "start_time": "2023-06-01T07:15:55.131949",
     "status": "completed"
    },
    "tags": []
   },
   "outputs": [
    {
     "data": {
      "text/html": [
       "<div>\n",
       "<style scoped>\n",
       "    .dataframe tbody tr th:only-of-type {\n",
       "        vertical-align: middle;\n",
       "    }\n",
       "\n",
       "    .dataframe tbody tr th {\n",
       "        vertical-align: top;\n",
       "    }\n",
       "\n",
       "    .dataframe thead th {\n",
       "        text-align: right;\n",
       "    }\n",
       "</style>\n",
       "<table border=\"1\" class=\"dataframe\">\n",
       "  <thead>\n",
       "    <tr style=\"text-align: right;\">\n",
       "      <th></th>\n",
       "      <th>Date</th>\n",
       "      <th>Open</th>\n",
       "      <th>High</th>\n",
       "      <th>Low</th>\n",
       "      <th>Last</th>\n",
       "      <th>Close</th>\n",
       "      <th>Total Trade Quantity</th>\n",
       "      <th>Turnover (Lacs)</th>\n",
       "    </tr>\n",
       "  </thead>\n",
       "  <tbody>\n",
       "    <tr>\n",
       "      <th>0</th>\n",
       "      <td>2018-09-28</td>\n",
       "      <td>234.05</td>\n",
       "      <td>235.95</td>\n",
       "      <td>230.20</td>\n",
       "      <td>233.50</td>\n",
       "      <td>233.75</td>\n",
       "      <td>3069914</td>\n",
       "      <td>7162.35</td>\n",
       "    </tr>\n",
       "    <tr>\n",
       "      <th>1</th>\n",
       "      <td>2018-09-27</td>\n",
       "      <td>234.55</td>\n",
       "      <td>236.80</td>\n",
       "      <td>231.10</td>\n",
       "      <td>233.80</td>\n",
       "      <td>233.25</td>\n",
       "      <td>5082859</td>\n",
       "      <td>11859.95</td>\n",
       "    </tr>\n",
       "    <tr>\n",
       "      <th>2</th>\n",
       "      <td>2018-09-26</td>\n",
       "      <td>240.00</td>\n",
       "      <td>240.00</td>\n",
       "      <td>232.50</td>\n",
       "      <td>235.00</td>\n",
       "      <td>234.25</td>\n",
       "      <td>2240909</td>\n",
       "      <td>5248.60</td>\n",
       "    </tr>\n",
       "    <tr>\n",
       "      <th>3</th>\n",
       "      <td>2018-09-25</td>\n",
       "      <td>233.30</td>\n",
       "      <td>236.75</td>\n",
       "      <td>232.00</td>\n",
       "      <td>236.25</td>\n",
       "      <td>236.10</td>\n",
       "      <td>2349368</td>\n",
       "      <td>5503.90</td>\n",
       "    </tr>\n",
       "    <tr>\n",
       "      <th>4</th>\n",
       "      <td>2018-09-24</td>\n",
       "      <td>233.55</td>\n",
       "      <td>239.20</td>\n",
       "      <td>230.75</td>\n",
       "      <td>234.00</td>\n",
       "      <td>233.30</td>\n",
       "      <td>3423509</td>\n",
       "      <td>7999.55</td>\n",
       "    </tr>\n",
       "  </tbody>\n",
       "</table>\n",
       "</div>"
      ],
      "text/plain": [
       "         Date    Open    High     Low    Last   Close  Total Trade Quantity  \\\n",
       "0  2018-09-28  234.05  235.95  230.20  233.50  233.75               3069914   \n",
       "1  2018-09-27  234.55  236.80  231.10  233.80  233.25               5082859   \n",
       "2  2018-09-26  240.00  240.00  232.50  235.00  234.25               2240909   \n",
       "3  2018-09-25  233.30  236.75  232.00  236.25  236.10               2349368   \n",
       "4  2018-09-24  233.55  239.20  230.75  234.00  233.30               3423509   \n",
       "\n",
       "   Turnover (Lacs)  \n",
       "0          7162.35  \n",
       "1         11859.95  \n",
       "2          5248.60  \n",
       "3          5503.90  \n",
       "4          7999.55  "
      ]
     },
     "execution_count": 3,
     "metadata": {},
     "output_type": "execute_result"
    }
   ],
   "source": [
    "data.head()"
   ]
  },
  {
   "cell_type": "code",
   "execution_count": 4,
   "id": "65c47f98",
   "metadata": {
    "execution": {
     "iopub.execute_input": "2023-06-01T07:15:55.203855Z",
     "iopub.status.busy": "2023-06-01T07:15:55.202627Z",
     "iopub.status.idle": "2023-06-01T07:15:55.212197Z",
     "shell.execute_reply": "2023-06-01T07:15:55.211203Z"
    },
    "papermill": {
     "duration": 0.021889,
     "end_time": "2023-06-01T07:15:55.214979",
     "exception": false,
     "start_time": "2023-06-01T07:15:55.193090",
     "status": "completed"
    },
    "tags": []
   },
   "outputs": [],
   "source": [
    "data_=data.reset_index()['Close']"
   ]
  },
  {
   "cell_type": "code",
   "execution_count": 5,
   "id": "699c8b9e",
   "metadata": {
    "execution": {
     "iopub.execute_input": "2023-06-01T07:15:55.235587Z",
     "iopub.status.busy": "2023-06-01T07:15:55.234905Z",
     "iopub.status.idle": "2023-06-01T07:15:55.244979Z",
     "shell.execute_reply": "2023-06-01T07:15:55.243862Z"
    },
    "papermill": {
     "duration": 0.024115,
     "end_time": "2023-06-01T07:15:55.247619",
     "exception": false,
     "start_time": "2023-06-01T07:15:55.223504",
     "status": "completed"
    },
    "tags": []
   },
   "outputs": [
    {
     "data": {
      "text/plain": [
       "0       233.75\n",
       "1       233.25\n",
       "2       234.25\n",
       "3       236.10\n",
       "4       233.30\n",
       "         ...  \n",
       "2030    118.65\n",
       "2031    117.60\n",
       "2032    120.65\n",
       "2033    120.90\n",
       "2034    121.55\n",
       "Name: Close, Length: 2035, dtype: float64"
      ]
     },
     "execution_count": 5,
     "metadata": {},
     "output_type": "execute_result"
    }
   ],
   "source": [
    "data_"
   ]
  },
  {
   "cell_type": "code",
   "execution_count": 6,
   "id": "da9dcc8f",
   "metadata": {
    "execution": {
     "iopub.execute_input": "2023-06-01T07:15:55.267753Z",
     "iopub.status.busy": "2023-06-01T07:15:55.266547Z",
     "iopub.status.idle": "2023-06-01T07:15:55.595024Z",
     "shell.execute_reply": "2023-06-01T07:15:55.593866Z"
    },
    "papermill": {
     "duration": 0.341132,
     "end_time": "2023-06-01T07:15:55.597698",
     "exception": false,
     "start_time": "2023-06-01T07:15:55.256566",
     "status": "completed"
    },
    "tags": []
   },
   "outputs": [
    {
     "data": {
      "image/png": "[encoded data removed]",
      "text/plain": [
       "<Figure size 640x480 with 1 Axes>"
      ]
     },
     "metadata": {},
     "output_type": "display_data"
    }
   ],
   "source": [
    "import matplotlib.pyplot as plt\n",
    "\n",
    "plt.plot(data_)\n",
    "\n",
    "plt.xlabel('Index')\n",
    "plt.ylabel('Close Value')\n",
    "plt.title('Close Values')\n",
    "\n",
    "plt.show()"
   ]
  },
  {
   "cell_type": "code",
   "execution_count": 7,
   "id": "43700b6f",
   "metadata": {
    "execution": {
     "iopub.execute_input": "2023-06-01T07:15:55.617882Z",
     "iopub.status.busy": "2023-06-01T07:15:55.617432Z",
     "iopub.status.idle": "2023-06-01T07:15:57.144470Z",
     "shell.execute_reply": "2023-06-01T07:15:57.142890Z"
    },
    "papermill": {
     "duration": 1.540522,
     "end_time": "2023-06-01T07:15:57.147333",
     "exception": false,
     "start_time": "2023-06-01T07:15:55.606811",
     "status": "completed"
    },
    "tags": []
   },
   "outputs": [],
   "source": [
    "from sklearn.preprocessing import MinMaxScaler\n",
    "scaler=MinMaxScaler(feature_range=(0,1))\n",
    "data_=scaler.fit_transform(np.array(data_).reshape(-1,1))"
   ]
  },
  {
   "cell_type": "code",
   "execution_count": 8,
   "id": "461f021d",
   "metadata": {
    "execution": {
     "iopub.execute_input": "2023-06-01T07:15:57.168435Z",
     "iopub.status.busy": "2023-06-01T07:15:57.168010Z",
     "iopub.status.idle": "2023-06-01T07:15:57.175620Z",
     "shell.execute_reply": "2023-06-01T07:15:57.174464Z"
    },
    "papermill": {
     "duration": 0.021553,
     "end_time": "2023-06-01T07:15:57.177982",
     "exception": false,
     "start_time": "2023-06-01T07:15:57.156429",
     "status": "completed"
    },
    "tags": []
   },
   "outputs": [
    {
     "data": {
      "text/plain": [
       "array([[0.62418301],\n",
       "       [0.62214052],\n",
       "       [0.62622549],\n",
       "       ...,\n",
       "       [0.1621732 ],\n",
       "       [0.16319444],\n",
       "       [0.16584967]])"
      ]
     },
     "execution_count": 8,
     "metadata": {},
     "output_type": "execute_result"
    }
   ],
   "source": [
    "data_"
   ]
  },
  {
   "cell_type": "code",
   "execution_count": 9,
   "id": "f4100364",
   "metadata": {
    "execution": {
     "iopub.execute_input": "2023-06-01T07:15:57.198839Z",
     "iopub.status.busy": "2023-06-01T07:15:57.198168Z",
     "iopub.status.idle": "2023-06-01T07:15:57.205090Z",
     "shell.execute_reply": "2023-06-01T07:15:57.203982Z"
    },
    "papermill": {
     "duration": 0.020147,
     "end_time": "2023-06-01T07:15:57.207344",
     "exception": false,
     "start_time": "2023-06-01T07:15:57.187197",
     "status": "completed"
    },
    "tags": []
   },
   "outputs": [
    {
     "data": {
      "text/plain": [
       "(2035, 1)"
      ]
     },
     "execution_count": 9,
     "metadata": {},
     "output_type": "execute_result"
    }
   ],
   "source": [
    "data_.shape"
   ]
  },
  {
   "cell_type": "code",
   "execution_count": 10,
   "id": "552cd14b",
   "metadata": {
    "execution": {
     "iopub.execute_input": "2023-06-01T07:15:57.228395Z",
     "iopub.status.busy": "2023-06-01T07:15:57.227713Z",
     "iopub.status.idle": "2023-06-01T07:15:57.233570Z",
     "shell.execute_reply": "2023-06-01T07:15:57.232683Z"
    },
    "papermill": {
     "duration": 0.01931,
     "end_time": "2023-06-01T07:15:57.236061",
     "exception": false,
     "start_time": "2023-06-01T07:15:57.216751",
     "status": "completed"
    },
    "tags": []
   },
   "outputs": [],
   "source": [
    "train_data, test_data=data_[0:int(len(data_)*0.65), :], data_[int(len(data_)*0.65):len(data_),:1]"
   ]
  },
  {
   "cell_type": "code",
   "execution_count": 11,
   "id": "7d2b6f99",
   "metadata": {
    "execution": {
     "iopub.execute_input": "2023-06-01T07:15:57.257030Z",
     "iopub.status.busy": "2023-06-01T07:15:57.256351Z",
     "iopub.status.idle": "2023-06-01T07:15:57.263370Z",
     "shell.execute_reply": "2023-06-01T07:15:57.262207Z"
    },
    "papermill": {
     "duration": 0.020266,
     "end_time": "2023-06-01T07:15:57.265657",
     "exception": false,
     "start_time": "2023-06-01T07:15:57.245391",
     "status": "completed"
    },
    "tags": []
   },
   "outputs": [
    {
     "data": {
      "text/plain": [
       "(1322, 1)"
      ]
     },
     "execution_count": 11,
     "metadata": {},
     "output_type": "execute_result"
    }
   ],
   "source": [
    "train_data.shape"
   ]
  },
  {
   "cell_type": "code",
   "execution_count": 12,
   "id": "4621b14b",
   "metadata": {
    "execution": {
     "iopub.execute_input": "2023-06-01T07:15:57.286940Z",
     "iopub.status.busy": "2023-06-01T07:15:57.286280Z",
     "iopub.status.idle": "2023-06-01T07:15:57.293035Z",
     "shell.execute_reply": "2023-06-01T07:15:57.291855Z"
    },
    "papermill": {
     "duration": 0.019963,
     "end_time": "2023-06-01T07:15:57.295244",
     "exception": false,
     "start_time": "2023-06-01T07:15:57.275281",
     "status": "completed"
    },
    "tags": []
   },
   "outputs": [
    {
     "data": {
      "text/plain": [
       "(713, 1)"
      ]
     },
     "execution_count": 12,
     "metadata": {},
     "output_type": "execute_result"
    }
   ],
   "source": [
    "test_data.shape"
   ]
  },
  {
   "cell_type": "code",
   "execution_count": 13,
   "id": "e8b59f67",
   "metadata": {
    "execution": {
     "iopub.execute_input": "2023-06-01T07:15:57.316793Z",
     "iopub.status.busy": "2023-06-01T07:15:57.316113Z",
     "iopub.status.idle": "2023-06-01T07:15:57.328532Z",
     "shell.execute_reply": "2023-06-01T07:15:57.327586Z"
    },
    "papermill": {
     "duration": 0.026208,
     "end_time": "2023-06-01T07:15:57.331135",
     "exception": false,
     "start_time": "2023-06-01T07:15:57.304927",
     "status": "completed"
    },
    "tags": []
   },
   "outputs": [],
   "source": [
    "def create_dataset(dataset, time_step=1):\n",
    "    dataX, dataY=[],[]\n",
    "    for i in range(len(dataset)-time_step-1):\n",
    "        a=dataset[i:(i+time_step),0]\n",
    "        dataX.append(a)\n",
    "        dataY.append(dataset[i+time_step,0])\n",
    "    return np.array(dataX), np.array(dataY)\n",
    "    \n",
    "time_step=100\n",
    "X_train, y_train=create_dataset(train_data, time_step)\n",
    "X_test, y_test=create_dataset(test_data, time_step)"
   ]
  },
  {
   "cell_type": "code",
   "execution_count": 14,
   "id": "ad3a36b8",
   "metadata": {
    "execution": {
     "iopub.execute_input": "2023-06-01T07:15:57.352987Z",
     "iopub.status.busy": "2023-06-01T07:15:57.352299Z",
     "iopub.status.idle": "2023-06-01T07:15:57.359078Z",
     "shell.execute_reply": "2023-06-01T07:15:57.358018Z"
    },
    "papermill": {
     "duration": 0.020354,
     "end_time": "2023-06-01T07:15:57.361323",
     "exception": false,
     "start_time": "2023-06-01T07:15:57.340969",
     "status": "completed"
    },
    "tags": []
   },
   "outputs": [
    {
     "data": {
      "text/plain": [
       "(1221, 100)"
      ]
     },
     "execution_count": 14,
     "metadata": {},
     "output_type": "execute_result"
    }
   ],
   "source": [
    "X_train.shape"
   ]
  },
  {
   "cell_type": "code",
   "execution_count": 15,
   "id": "1e8b0d75",
   "metadata": {
    "execution": {
     "iopub.execute_input": "2023-06-01T07:15:57.382834Z",
     "iopub.status.busy": "2023-06-01T07:15:57.382168Z",
     "iopub.status.idle": "2023-06-01T07:15:57.389059Z",
     "shell.execute_reply": "2023-06-01T07:15:57.387785Z"
    },
    "papermill": {
     "duration": 0.02043,
     "end_time": "2023-06-01T07:15:57.391450",
     "exception": false,
     "start_time": "2023-06-01T07:15:57.371020",
     "status": "completed"
    },
    "tags": []
   },
   "outputs": [
    {
     "data": {
      "text/plain": [
       "(612, 100)"
      ]
     },
     "execution_count": 15,
     "metadata": {},
     "output_type": "execute_result"
    }
   ],
   "source": [
    "X_test.shape"
   ]
  },
  {
   "cell_type": "code",
   "execution_count": 16,
   "id": "61332142",
   "metadata": {
    "execution": {
     "iopub.execute_input": "2023-06-01T07:15:57.413210Z",
     "iopub.status.busy": "2023-06-01T07:15:57.412813Z",
     "iopub.status.idle": "2023-06-01T07:15:57.418228Z",
     "shell.execute_reply": "2023-06-01T07:15:57.417110Z"
    },
    "papermill": {
     "duration": 0.019306,
     "end_time": "2023-06-01T07:15:57.420823",
     "exception": false,
     "start_time": "2023-06-01T07:15:57.401517",
     "status": "completed"
    },
    "tags": []
   },
   "outputs": [],
   "source": [
    "X_train=X_train.reshape(X_train.shape[0], X_train.shape[1],1)\n",
    "X_test=X_test.reshape(X_test.shape[0], X_test.shape[1],1)"
   ]
  },
  {
   "cell_type": "code",
   "execution_count": 17,
   "id": "3a418fb1",
   "metadata": {
    "execution": {
     "iopub.execute_input": "2023-06-01T07:15:57.442739Z",
     "iopub.status.busy": "2023-06-01T07:15:57.442343Z",
     "iopub.status.idle": "2023-06-01T07:16:07.360605Z",
     "shell.execute_reply": "2023-06-01T07:16:07.359292Z"
    },
    "papermill": {
     "duration": 9.93256,
     "end_time": "2023-06-01T07:16:07.363462",
     "exception": false,
     "start_time": "2023-06-01T07:15:57.430902",
     "status": "completed"
    },
    "tags": []
   },
   "outputs": [
    {
     "name": "stderr",
     "output_type": "stream",
     "text": [
      "/opt/conda/lib/python3.10/site-packages/tensorflow_io/python/ops/__init__.py:98: UserWarning: unable to load libtensorflow_io_plugins.so: unable to open file: libtensorflow_io_plugins.so, from paths: ['/opt/conda/lib/python3.10/site-packages/tensorflow_io/python/ops/libtensorflow_io_plugins.so']\n",
      "caused by: ['/opt/conda/lib/python3.10/site-packages/tensorflow_io/python/ops/libtensorflow_io_plugins.so: undefined symbol: _ZN3tsl6StatusC1EN10tensorflow5error4CodeESt17basic_string_viewIcSt11char_traitsIcEENS_14SourceLocationE']\n",
      "  warnings.warn(f\"unable to load libtensorflow_io_plugins.so: {e}\")\n",
      "/opt/conda/lib/python3.10/site-packages/tensorflow_io/python/ops/__init__.py:104: UserWarning: file system plugins are not loaded: unable to open file: libtensorflow_io.so, from paths: ['/opt/conda/lib/python3.10/site-packages/tensorflow_io/python/ops/libtensorflow_io.so']\n",
      "caused by: ['/opt/conda/lib/python3.10/site-packages/tensorflow_io/python/ops/libtensorflow_io.so: undefined symbol: _ZTVN10tensorflow13GcsFileSystemE']\n",
      "  warnings.warn(f\"file system plugins are not loaded: {e}\")\n"
     ]
    }
   ],
   "source": [
    "from tensorflow.keras.models import Sequential\n",
    "from tensorflow.keras.layers import Dense\n",
    "from tensorflow.keras.layers import LSTM"
   ]
  },
  {
   "cell_type": "code",
   "execution_count": 18,
   "id": "af301c23",
   "metadata": {
    "execution": {
     "iopub.execute_input": "2023-06-01T07:16:07.385884Z",
     "iopub.status.busy": "2023-06-01T07:16:07.384991Z",
     "iopub.status.idle": "2023-06-01T07:16:08.592123Z",
     "shell.execute_reply": "2023-06-01T07:16:08.590850Z"
    },
    "papermill": {
     "duration": 1.223149,
     "end_time": "2023-06-01T07:16:08.596894",
     "exception": false,
     "start_time": "2023-06-01T07:16:07.373745",
     "status": "completed"
    },
    "tags": []
   },
   "outputs": [
    {
     "name": "stdout",
     "output_type": "stream",
     "text": [
      "Model: \"sequential\"\n",
      "_________________________________________________________________\n",
      " Layer (type)                Output Shape              Param #   \n",
      "=================================================================\n",
      " lstm (LSTM)                 (None, 100, 50)           10400     \n",
      "                                                                 \n",
      " lstm_1 (LSTM)               (None, 100, 50)           20200     \n",
      "                                                                 \n",
      " lstm_2 (LSTM)               (None, 50)                20200     \n",
      "                                                                 \n",
      " dense (Dense)               (None, 1)                 51        \n",
      "                                                                 \n",
      "=================================================================\n",
      "Total params: 50,851\n",
      "Trainable params: 50,851\n",
      "Non-trainable params: 0\n",
      "_________________________________________________________________\n"
     ]
    }
   ],
   "source": [
    "model=Sequential()\n",
    "model.add(LSTM(50, return_sequences=True, input_shape=(100,1)))\n",
    "model.add(LSTM(50, return_sequences=True))\n",
    "model.add(LSTM(50))\n",
    "model.add(Dense(1))\n",
    "model.compile(loss='mean_squared_error', optimizer='adam')\n",
    "model.summary()"
   ]
  },
  {
   "cell_type": "code",
   "execution_count": 19,
   "id": "0d133db9",
   "metadata": {
    "execution": {
     "iopub.execute_input": "2023-06-01T07:16:08.621659Z",
     "iopub.status.busy": "2023-06-01T07:16:08.621240Z",
     "iopub.status.idle": "2023-06-01T07:17:36.313937Z",
     "shell.execute_reply": "2023-06-01T07:17:36.312672Z"
    },
    "papermill": {
     "duration": 87.756704,
     "end_time": "2023-06-01T07:17:36.364918",
     "exception": false,
     "start_time": "2023-06-01T07:16:08.608214",
     "status": "completed"
    },
    "tags": []
   },
   "outputs": [
    {
     "name": "stdout",
     "output_type": "stream",
     "text": [
      "Epoch 1/10\n",
      "39/39 [==============================] - 11s 130ms/step - loss: 0.0135\n",
      "Epoch 2/10\n",
      "39/39 [==============================] - 5s 131ms/step - loss: 0.0018\n",
      "Epoch 3/10\n",
      "39/39 [==============================] - 5s 131ms/step - loss: 0.0016\n",
      "Epoch 4/10\n",
      "39/39 [==============================] - 5s 136ms/step - loss: 0.0014\n",
      "Epoch 5/10\n",
      "39/39 [==============================] - 5s 130ms/step - loss: 0.0013\n",
      "Epoch 6/10\n",
      "39/39 [==============================] - 5s 129ms/step - loss: 0.0013\n",
      "Epoch 7/10\n",
      "39/39 [==============================] - 5s 131ms/step - loss: 0.0011\n",
      "Epoch 8/10\n",
      "39/39 [==============================] - 5s 132ms/step - loss: 0.0013\n",
      "Epoch 9/10\n",
      "39/39 [==============================] - 5s 130ms/step - loss: 0.0011\n",
      "Epoch 10/10\n",
      "39/39 [==============================] - 5s 138ms/step - loss: 0.0010\n"
     ]
    },
    {
     "data": {
      "text/plain": [
       "<keras.callbacks.History at 0x7e9ffc29e7a0>"
      ]
     },
     "execution_count": 19,
     "metadata": {},
     "output_type": "execute_result"
    }
   ],
   "source": [
    "model.fit(X_train, y_train, epochs=10, batch_size=32)"
   ]
  },
  {
   "cell_type": "code",
   "execution_count": 20,
   "id": "b79d87cf",
   "metadata": {
    "execution": {
     "iopub.execute_input": "2023-06-01T07:17:36.465736Z",
     "iopub.status.busy": "2023-06-01T07:17:36.464761Z",
     "iopub.status.idle": "2023-06-01T07:17:40.384616Z",
     "shell.execute_reply": "2023-06-01T07:17:40.383211Z"
    },
    "papermill": {
     "duration": 3.973908,
     "end_time": "2023-06-01T07:17:40.387250",
     "exception": false,
     "start_time": "2023-06-01T07:17:36.413342",
     "status": "completed"
    },
    "tags": []
   },
   "outputs": [
    {
     "name": "stdout",
     "output_type": "stream",
     "text": [
      "Training Loss:  0.0008141885627992451\n",
      "Test Loss:  0.0006725878920406103\n"
     ]
    }
   ],
   "source": [
    "train_loss=model.evaluate(X_train, y_train, verbose=0)\n",
    "test_loss=model.evaluate(X_test, y_test, verbose=0)\n",
    "\n",
    "print('Training Loss: ', train_loss)\n",
    "print('Test Loss: ', test_loss)"
   ]
  },
  {
   "cell_type": "code",
   "execution_count": 21,
   "id": "7230d128",
   "metadata": {
    "execution": {
     "iopub.execute_input": "2023-06-01T07:17:40.487424Z",
     "iopub.status.busy": "2023-06-01T07:17:40.486386Z",
     "iopub.status.idle": "2023-06-01T07:17:45.174274Z",
     "shell.execute_reply": "2023-06-01T07:17:45.173269Z"
    },
    "papermill": {
     "duration": 4.741459,
     "end_time": "2023-06-01T07:17:45.177359",
     "exception": false,
     "start_time": "2023-06-01T07:17:40.435900",
     "status": "completed"
    },
    "tags": []
   },
   "outputs": [
    {
     "name": "stdout",
     "output_type": "stream",
     "text": [
      "39/39 [==============================] - 3s 41ms/step\n",
      "20/20 [==============================] - 1s 42ms/step\n"
     ]
    }
   ],
   "source": [
    "train_predict=model.predict(X_train)\n",
    "test_predict=model.predict(X_test)\n",
    "train_predict=scaler.inverse_transform(train_predict)\n",
    "test_predict=scaler.inverse_transform(test_predict)"
   ]
  },
  {
   "cell_type": "code",
   "execution_count": 22,
   "id": "e04d0931",
   "metadata": {
    "execution": {
     "iopub.execute_input": "2023-06-01T07:17:45.281424Z",
     "iopub.status.busy": "2023-06-01T07:17:45.281018Z",
     "iopub.status.idle": "2023-06-01T07:17:45.401049Z",
     "shell.execute_reply": "2023-06-01T07:17:45.399846Z"
    },
    "papermill": {
     "duration": 0.175143,
     "end_time": "2023-06-01T07:17:45.403576",
     "exception": false,
     "start_time": "2023-06-01T07:17:45.228433",
     "status": "completed"
    },
    "tags": []
   },
   "outputs": [
    {
     "data": {
      "text/plain": [
       "165.84585521657672"
      ]
     },
     "execution_count": 22,
     "metadata": {},
     "output_type": "execute_result"
    }
   ],
   "source": [
    "import math\n",
    "from sklearn.metrics import mean_squared_error\n",
    "math.sqrt(mean_squared_error(y_train, train_predict))"
   ]
  },
  {
   "cell_type": "code",
   "execution_count": 23,
   "id": "430005b0",
   "metadata": {
    "execution": {
     "iopub.execute_input": "2023-06-01T07:17:45.507577Z",
     "iopub.status.busy": "2023-06-01T07:17:45.506757Z",
     "iopub.status.idle": "2023-06-01T07:17:45.881986Z",
     "shell.execute_reply": "2023-06-01T07:17:45.881073Z"
    },
    "papermill": {
     "duration": 0.429923,
     "end_time": "2023-06-01T07:17:45.884283",
     "exception": false,
     "start_time": "2023-06-01T07:17:45.454360",
     "status": "completed"
    },
    "tags": []
   },
   "outputs": [
    {
     "data": {
      "image/png": "[encoded data removed]",
      "text/plain": [
       "<Figure size 640x480 with 1 Axes>"
      ]
     },
     "metadata": {},
     "output_type": "display_data"
    }
   ],
   "source": [
    "sequence_length=time_step\n",
    "\n",
    "train_data = scaler.inverse_transform(train_data)\n",
    "test_data = scaler.inverse_transform(test_data)\n",
    "plt.plot(train_data, label='Actual Train Prices')\n",
    "plt.plot(test_data, label='Actual Test Prices')\n",
    "plt.plot(range(sequence_length, sequence_length + len(train_predict)), train_predict, label='Predicted Train Prices')\n",
    "plt.plot(range(sequence_length + len(train_data)+1, len(data_)), test_predict, label='Predicted Test Prices')\n",
    "plt.xlabel('Time')\n",
    "plt.ylabel('Stock Price')\n",
    "plt.title('Stock Price Prediction')\n",
    "plt.legend()\n",
    "plt.show()"
   ]
  },
  {
   "cell_type": "code",
   "execution_count": null,
   "id": "d2ceb357",
   "metadata": {
    "papermill": {
     "duration": 0.051431,
     "end_time": "2023-06-01T07:17:45.988033",
     "exception": false,
     "start_time": "2023-06-01T07:17:45.936602",
     "status": "completed"
    },
    "tags": []
   },
   "outputs": [],
   "source": []
  }
 ],
 "metadata": {
  "kernelspec": {
   "display_name": "Python 3",
   "language": "python",
   "name": "python3"
  },
  "language_info": {
   "codemirror_mode": {
    "name": "ipython",
    "version": 3
   },
   "file_extension": ".py",
   "mimetype": "text/x-python",
   "name": "python",
   "nbconvert_exporter": "python",
   "pygments_lexer": "ipython3",
   "version": "3.10.10"
  },
  "papermill": {
   "default_parameters": {},
   "duration": 129.000668,
   "end_time": "2023-06-01T07:17:48.731344",
   "environment_variables": {},
   "exception": null,
   "input_path": "__notebook__.ipynb",
   "output_path": "__notebook__.ipynb",
   "parameters": {},
   "start_time": "2023-06-01T07:15:39.730676",
   "version": "2.4.0"
  }
 },
 "nbformat": 4,
 "nbformat_minor": 5
}
